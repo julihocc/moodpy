{
 "cells": [
  {
   "cell_type": "code",
   "execution_count": null,
   "metadata": {},
   "outputs": [],
   "source": [
    "import sys\n",
    "ruta = r\"D:\\Dropbox (Ciencias Aplicadas)\\MOODPY\\moodpy\"\n",
    "sys.path.append(ruta)\n",
    "\n",
    "import moodpy as me\n",
    "import numpy as np\n",
    "np.random.seed(123)\n",
    "sage.misc.html._old_and_deprecated_behavior = False"
   ]
  },
  {
   "cell_type": "code",
   "execution_count": null,
   "metadata": {},
   "outputs": [],
   "source": [
    "\"\"\"\n",
    "CAMBIAR CLAVE Y TEMA!!!\n",
    "\"\"\"\n",
    "MATERIA = \"XXX\"\n",
    "CLAVE = \"000\"\n",
    "TEMA = \" \"\n",
    "label = \"{} {} {}\".format(MATERIA, CLAVE, TEMA.title())\n",
    "miCabecera = \"<h1> {} </h1>\".format(TEMA.title())\n",
    "print(\"<h1>\"+label+\"</h1>\")\n",
    "print(miCabecera)"
   ]
  },
  {
   "cell_type": "code",
   "execution_count": null,
   "metadata": {},
   "outputs": [],
   "source": []
  },
  {
   "cell_type": "code",
   "execution_count": null,
   "metadata": {},
   "outputs": [],
   "source": []
  },
  {
   "cell_type": "code",
   "execution_count": null,
   "metadata": {},
   "outputs": [],
   "source": []
  },
  {
   "cell_type": "code",
   "execution_count": null,
   "metadata": {
    "scrolled": true
   },
   "outputs": [],
   "source": [
    "def gen_exercise(params, impr=False, cabecera=\"\", data={}, tex={}, answers={}, feedback = {}):\n",
    "    \n",
    "    ejercicio = cabecera + r\"\"\"\n",
    "\n",
    "    \"\"\".format(d=data, t=tex, a=answers, f=feedback)\n",
    "    \n",
    "    retroalimentacion = \"\"\"\n",
    "    \n",
    "    \"\"\".format(d=data, t=tex, a=answers, f=feedback)\n",
    "    \n",
    "    return me.pretty(ejercicio, retroalimentacion)"
   ]
  },
  {
   "cell_type": "code",
   "execution_count": null,
   "metadata": {},
   "outputs": [],
   "source": [
    "print(html(\"<h1>\"+label+\"</h1>\"))\n",
    "me.rollOver(gen_exercise, problems, label, print_list=True, save=False, cabecera=miCabecera)"
   ]
  },
  {
   "cell_type": "code",
   "execution_count": null,
   "metadata": {},
   "outputs": [],
   "source": [
    "me.rollOver(gen_exercise, problems, label, cabecera=miCabecera)"
   ]
  }
 ],
 "metadata": {
  "kernelspec": {
   "display_name": "SageMath 9.0",
   "language": "sage",
   "name": "sagemath"
  },
  "language_info": {
   "codemirror_mode": {
    "name": "ipython",
    "version": 3
   },
   "file_extension": ".py",
   "mimetype": "text/x-python",
   "name": "python",
   "nbconvert_exporter": "python",
   "pygments_lexer": "ipython3",
   "version": "3.7.3"
  }
 },
 "nbformat": 4,
 "nbformat_minor": 4
}
