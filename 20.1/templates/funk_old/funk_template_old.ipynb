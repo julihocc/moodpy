{
 "cells": [
  {
   "cell_type": "code",
   "execution_count": 1,
   "metadata": {},
   "outputs": [],
   "source": [
    "%reload_ext autoreload\n",
    "%autoreload 1\n",
    "\n",
    "import sys\n",
    "ruta = r\"D:\\Dropbox\\Docencia\\moodpy\\moodpy\\20.1\"\n",
    "sys.path.append(ruta)\n",
    "\n",
    "import numpy as np\n",
    "np.random.seed(123)"
   ]
  },
  {
   "cell_type": "code",
   "execution_count": 2,
   "metadata": {},
   "outputs": [
    {
     "name": "stdout",
     "output_type": "stream",
     "text": [
      "<h1>XXX 000 ---</h1>\n",
      "<h1> --- </h1>\n"
     ]
    }
   ],
   "source": [
    "\"\"\"\n",
    "CAMBIAR CLAVE Y TEMA!!!\n",
    "\"\"\"\n",
    "MATERIA = \"XXX\"\n",
    "CLAVE = \"000\"\n",
    "TEMA = \"---\"\n",
    "label = \"{} {} {}\".format(MATERIA, CLAVE, TEMA.title())\n",
    "miCabecera = \"<h1> {} </h1>\".format(TEMA.title())\n",
    "print(\"<h1>\"+label+\"</h1>\")\n",
    "print(miCabecera)"
   ]
  },
  {
   "cell_type": "code",
   "execution_count": 3,
   "metadata": {},
   "outputs": [
    {
     "name": "stdout",
     "output_type": "stream",
     "text": [
      "2020-05-16 19:20:08.568516\n"
     ]
    }
   ],
   "source": [
    "%aimport moodpy\n",
    "%aimport funk\n",
    "funk.test()"
   ]
  },
  {
   "cell_type": "code",
   "execution_count": 4,
   "metadata": {},
   "outputs": [
    {
     "name": "stdout",
     "output_type": "stream",
     "text": [
      "<h1>XXX 000 ---</h1>\n",
      "\n",
      "        <questiontext format=\"html\">\n",
      "<text>\n",
      "<![CDATA[\n",
      "<h1> --- </h1>\n",
      "\n",
      "    \n",
      "]]>\n",
      "</text></questiontext>\n",
      "\n",
      "        <generalfeedback format=\"html\">\n",
      "<text>\n",
      "<![CDATA[\n",
      "\n",
      "    \n",
      "    \n",
      "]]>\n",
      "</text></generalfeedback>\n",
      "\n",
      "        \n"
     ]
    }
   ],
   "source": [
    "def gen_exercise(impr=False, cabecera=\"\", data={}, tex={}, answers={}, feedback = {}):\n",
    "    \n",
    "    ejercicio = cabecera + r\"\"\"\n",
    "\n",
    "    \"\"\".format(d=data, t=tex, a=answers, f=feedback)\n",
    "    \n",
    "    retroalimentacion = \"\"\"\n",
    "    \n",
    "    \"\"\".format(d=data, t=tex, a=answers, f=feedback)\n",
    "    \n",
    "    return moodpy.pretty(ejercicio, retroalimentacion)\n",
    "\n",
    "print(\"<h1>\"+label+\"</h1>\")\n",
    "moodpy.quick(gen_exercise, label, 0, impr=True, cabecera=miCabecera)"
   ]
  },
  {
   "cell_type": "code",
   "execution_count": null,
   "metadata": {},
   "outputs": [],
   "source": [
    "moodpy.quick(gen_exercise, label, 5, impr=True, cabecera=miCabecera)"
   ]
  },
  {
   "cell_type": "code",
   "execution_count": null,
   "metadata": {},
   "outputs": [],
   "source": [
    "moodpy.quick(gen_exercise, label, 500, impr=False, cabecera=miCabecera)"
   ]
  }
 ],
 "metadata": {
  "kernelspec": {
   "display_name": "SageMath 9.0",
   "language": "sage",
   "name": "sagemath"
  },
  "language_info": {
   "codemirror_mode": {
    "name": "ipython",
    "version": 3
   },
   "file_extension": ".py",
   "mimetype": "text/x-python",
   "name": "python",
   "nbconvert_exporter": "python",
   "pygments_lexer": "ipython3",
   "version": "3.7.3"
  }
 },
 "nbformat": 4,
 "nbformat_minor": 4
}
