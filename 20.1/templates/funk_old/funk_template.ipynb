{
 "cells": [
  {
   "cell_type": "code",
   "execution_count": 1,
   "metadata": {},
   "outputs": [],
   "source": [
    "import sys\n",
    "ruta = r\"D:\\Dropbox\\Docencia\\moodpy\\moodpy\\20.1\"\n",
    "sys.path.append(ruta)\n",
    "\n",
    "import moodpy\n",
    "\n",
    "import numpy as np\n",
    "np.random.seed(123)"
   ]
  },
  {
   "cell_type": "code",
   "execution_count": 2,
   "metadata": {},
   "outputs": [
    {
     "name": "stdout",
     "output_type": "stream",
     "text": [
      "Materia Clave Tema\n",
      "<h1> Tema </h1>\n"
     ]
    }
   ],
   "source": [
    "\"\"\"\n",
    "CAMBIAR CLAVE Y TEMA!!!\n",
    "\"\"\"\n",
    "label, miCabecera = moodpy.make_label(\"Materia\", \"Clave\", \"Tema\")\n",
    "print(label)\n",
    "print(miCabecera)"
   ]
  },
  {
   "cell_type": "code",
   "execution_count": 3,
   "metadata": {},
   "outputs": [
    {
     "name": "stdout",
     "output_type": "stream",
     "text": [
      "2020-05-24 00:36:31.553293\n"
     ]
    }
   ],
   "source": [
    "%run funktions.ipynb"
   ]
  },
  {
   "cell_type": "code",
   "execution_count": 4,
   "metadata": {},
   "outputs": [
    {
     "name": "stdout",
     "output_type": "stream",
     "text": [
      "<h1>Materia Clave Tema</h1>\n",
      "\n",
      "        <questiontext format=\"html\">\n",
      "<text>\n",
      "<![CDATA[\n",
      "<h1> Tema </h1>\n",
      "\n",
      "    \n",
      "]]>\n",
      "</text></questiontext>\n",
      "\n",
      "        <generalfeedback format=\"html\">\n",
      "<text>\n",
      "<![CDATA[\n",
      "\n",
      "    \n",
      "    \n",
      "]]>\n",
      "</text></generalfeedback>\n",
      "\n",
      "        \n"
     ]
    }
   ],
   "source": [
    "def gen_exercise(impr=False, cabecera=\"\", data={}, tex={}, answers={}, feedback = {}):\n",
    "    \n",
    "    ejercicio = cabecera + r\"\"\"\n",
    "\n",
    "    \"\"\".format(d=data, t=tex, a=answers, f=feedback)\n",
    "    \n",
    "    retroalimentacion = \"\"\"\n",
    "    \n",
    "    \"\"\".format(d=data, t=tex, a=answers, f=feedback)\n",
    "    \n",
    "    return moodpy.pretty(ejercicio, retroalimentacion)\n",
    "\n",
    "print(\"<h1>\"+label+\"</h1>\")\n",
    "moodpy.quick(gen_exercise, label, 0, impr=True, cabecera=miCabecera)"
   ]
  },
  {
   "cell_type": "code",
   "execution_count": 5,
   "metadata": {},
   "outputs": [
    {
     "name": "stdout",
     "output_type": "stream",
     "text": [
      "--------------------------------\n",
      "Finalizado: 2020-05-24 00:36:31.686072\n",
      "Folder: Materia Clave Tema\n",
      "Filename: materia_clave_tema_2020-05-24_00-36-31-686111.xml\n",
      "#exes: 5\n"
     ]
    }
   ],
   "source": [
    "moodpy.quick(gen_exercise, label, 5, impr=True, cabecera=miCabecera)"
   ]
  },
  {
   "cell_type": "code",
   "execution_count": 6,
   "metadata": {},
   "outputs": [
    {
     "name": "stdout",
     "output_type": "stream",
     "text": [
      "--------------------------------\n",
      "Finalizado: 2020-05-24 00:36:31.800082\n",
      "Folder: Materia Clave Tema\n",
      "Filename: materia_clave_tema_2020-05-24_00-36-31-800121.xml\n",
      "#exes: 500\n"
     ]
    }
   ],
   "source": [
    "moodpy.quick(gen_exercise, label, 500, impr=False, cabecera=miCabecera)"
   ]
  }
 ],
 "metadata": {
  "kernelspec": {
   "display_name": "SageMath 9.0",
   "language": "sage",
   "name": "sagemath"
  },
  "language_info": {
   "codemirror_mode": {
    "name": "ipython",
    "version": 3
   },
   "file_extension": ".py",
   "mimetype": "text/x-python",
   "name": "python",
   "nbconvert_exporter": "python",
   "pygments_lexer": "ipython3",
   "version": "3.7.3"
  }
 },
 "nbformat": 4,
 "nbformat_minor": 4
}
