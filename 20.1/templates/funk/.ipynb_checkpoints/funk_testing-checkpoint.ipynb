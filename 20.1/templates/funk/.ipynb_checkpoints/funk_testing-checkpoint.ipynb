{
 "cells": [
  {
   "cell_type": "code",
   "execution_count": 1,
   "metadata": {},
   "outputs": [
    {
     "name": "stdout",
     "output_type": "stream",
     "text": [
      "2020-05-26 16:35:15.520725\n"
     ]
    }
   ],
   "source": [
    "import sys\n",
    "rutas = [r\"D:\\Dropbox\\moodpy\\20.1\"]\n",
    "for ruta in rutas:\n",
    "    sys.path.append(ruta)\n",
    "\n",
    "import numpy as np\n",
    "np.random.seed(123)\n",
    "\n",
    "import moodpy\n",
    "import tools\n",
    "\n",
    "from funktions import *\n",
    "test()"
   ]
  },
  {
   "cell_type": "code",
   "execution_count": 2,
   "metadata": {},
   "outputs": [],
   "source": [
    "def generador(impr=False, cabecera=\"\", data={}, tex={}, answers={}, feedback = {}):    \n",
    "    output = {\"data\":data, \"tex\":tex, \"answers\":answers, \"feedback\":feedback}\n",
    "    return output"
   ]
  },
  {
   "cell_type": "code",
   "execution_count": 3,
   "metadata": {},
   "outputs": [
    {
     "name": "stdout",
     "output_type": "stream",
     "text": [
      "----------------\n",
      "Ejercicio+0\n",
      "--------\n",
      " Dictionario: data\n",
      "--------\n",
      " Dictionario: tex\n",
      "--------\n",
      " Dictionario: answers\n",
      "--------\n",
      " Dictionario: feedback\n"
     ]
    }
   ],
   "source": [
    "tools.testing(1, generador)"
   ]
  },
  {
   "cell_type": "code",
   "execution_count": 4,
   "metadata": {},
   "outputs": [
    {
     "name": "stdout",
     "output_type": "stream",
     "text": [
      "----------------\n",
      "Ejercicio+1\n",
      "--------\n",
      " Dictionario: data\n",
      "--------\n",
      " Dictionario: tex\n",
      "--------\n",
      " Dictionario: answers\n",
      "--------\n",
      " Dictionario: feedback\n",
      "----------------\n",
      "Ejercicio+2\n",
      "--------\n",
      " Dictionario: data\n",
      "--------\n",
      " Dictionario: tex\n",
      "--------\n",
      " Dictionario: answers\n",
      "--------\n",
      " Dictionario: feedback\n",
      "----------------\n",
      "Ejercicio+3\n",
      "--------\n",
      " Dictionario: data\n",
      "--------\n",
      " Dictionario: tex\n",
      "--------\n",
      " Dictionario: answers\n",
      "--------\n",
      " Dictionario: feedback\n",
      "----------------\n",
      "Ejercicio+4\n",
      "--------\n",
      " Dictionario: data\n",
      "--------\n",
      " Dictionario: tex\n",
      "--------\n",
      " Dictionario: answers\n",
      "--------\n",
      " Dictionario: feedback\n",
      "----------------\n",
      "Ejercicio+5\n",
      "--------\n",
      " Dictionario: data\n",
      "--------\n",
      " Dictionario: tex\n",
      "--------\n",
      " Dictionario: answers\n",
      "--------\n",
      " Dictionario: feedback\n"
     ]
    }
   ],
   "source": [
    "tools.testing(5, generador)"
   ]
  },
  {
   "cell_type": "code",
   "execution_count": null,
   "metadata": {},
   "outputs": [],
   "source": []
  }
 ],
 "metadata": {
  "kernelspec": {
   "display_name": "SageMath 9.0",
   "language": "sage",
   "name": "sagemath"
  },
  "language_info": {
   "codemirror_mode": {
    "name": "ipython",
    "version": 3
   },
   "file_extension": ".py",
   "mimetype": "text/x-python",
   "name": "python",
   "nbconvert_exporter": "python",
   "pygments_lexer": "ipython3",
   "version": "3.7.3"
  }
 },
 "nbformat": 4,
 "nbformat_minor": 2
}
