{
 "cells": [
  {
   "cell_type": "code",
   "execution_count": 1,
   "metadata": {},
   "outputs": [
    {
     "name": "stdout",
     "output_type": "stream",
     "text": [
      "Ubicación: \n",
      "\t /home/sage/Dropbox/Moodpy/Moodpy Package/20.1/templates/funk\n",
      "Hora: \n",
      "\t 2020-06-05 12:28:17.783349\n"
     ]
    }
   ],
   "source": [
    "import sys\n",
    "rutas = [r\"D:\\Dropbox\\Moodpy\\Moodpy Package\\20.1\"]\n",
    "for ruta in rutas:\n",
    "    sys.path.append(ruta)\n",
    "\n",
    "import numpy as np\n",
    "#np.random.seed(123)\n",
    "\n",
    "import moodpy\n",
    "import tools\n",
    "import matfin as mf\n",
    "\n",
    "import os\n",
    "path = os.getcwd()\n",
    "\n",
    "import funktions as funk\n",
    "funk.test()"
   ]
  },
  {
   "cell_type": "code",
   "execution_count": 2,
   "metadata": {},
   "outputs": [],
   "source": [
    "def generador(impr=False, cabecera=\"\", data={}, tex={}, answers={}, feedback = {}):    \n",
    "    output = {\"data\":data, \"tex\":tex, \"answers\":answers, \"feedback\":feedback}\n",
    "    return output"
   ]
  },
  {
   "cell_type": "code",
   "execution_count": 3,
   "metadata": {},
   "outputs": [
    {
     "name": "stdout",
     "output_type": "stream",
     "text": [
      "----------------------------------------------------------------\n",
      "----------------------------------------------------------------\n",
      "Ejercicio+0\n",
      "--------\n",
      " Dictionario: data\n",
      "--------\n",
      " Dictionario: tex\n",
      "--------\n",
      " Dictionario: answers\n",
      "--------\n",
      " Dictionario: feedback\n",
      "\n",
      "\n",
      "\n"
     ]
    }
   ],
   "source": [
    "tools.testing(1, generador)"
   ]
  },
  {
   "cell_type": "code",
   "execution_count": 4,
   "metadata": {},
   "outputs": [
    {
     "name": "stdout",
     "output_type": "stream",
     "text": [
      "----------------------------------------------------------------\n",
      "----------------------------------------------------------------\n",
      "Ejercicio+1\n",
      "--------\n",
      " Dictionario: data\n",
      "--------\n",
      " Dictionario: tex\n",
      "--------\n",
      " Dictionario: answers\n",
      "--------\n",
      " Dictionario: feedback\n",
      "\n",
      "\n",
      "\n",
      "----------------------------------------------------------------\n",
      "----------------------------------------------------------------\n",
      "Ejercicio+2\n",
      "--------\n",
      " Dictionario: data\n",
      "--------\n",
      " Dictionario: tex\n",
      "--------\n",
      " Dictionario: answers\n",
      "--------\n",
      " Dictionario: feedback\n",
      "\n",
      "\n",
      "\n",
      "----------------------------------------------------------------\n",
      "----------------------------------------------------------------\n",
      "Ejercicio+3\n",
      "--------\n",
      " Dictionario: data\n",
      "--------\n",
      " Dictionario: tex\n",
      "--------\n",
      " Dictionario: answers\n",
      "--------\n",
      " Dictionario: feedback\n",
      "\n",
      "\n",
      "\n",
      "----------------------------------------------------------------\n",
      "----------------------------------------------------------------\n",
      "Ejercicio+4\n",
      "--------\n",
      " Dictionario: data\n",
      "--------\n",
      " Dictionario: tex\n",
      "--------\n",
      " Dictionario: answers\n",
      "--------\n",
      " Dictionario: feedback\n",
      "\n",
      "\n",
      "\n",
      "----------------------------------------------------------------\n",
      "----------------------------------------------------------------\n",
      "Ejercicio+5\n",
      "--------\n",
      " Dictionario: data\n",
      "--------\n",
      " Dictionario: tex\n",
      "--------\n",
      " Dictionario: answers\n",
      "--------\n",
      " Dictionario: feedback\n",
      "\n",
      "\n",
      "\n"
     ]
    }
   ],
   "source": [
    "tools.testing(5, generador)"
   ]
  },
  {
   "cell_type": "code",
   "execution_count": null,
   "metadata": {},
   "outputs": [],
   "source": []
  }
 ],
 "metadata": {
  "kernelspec": {
   "display_name": "SageMath 9.0",
   "language": "sage",
   "name": "sagemath"
  },
  "language_info": {
   "codemirror_mode": {
    "name": "ipython",
    "version": 3
   },
   "file_extension": ".py",
   "mimetype": "text/x-python",
   "name": "python",
   "nbconvert_exporter": "python",
   "pygments_lexer": "ipython3",
   "version": "3.7.3"
  }
 },
 "nbformat": 4,
 "nbformat_minor": 2
}
