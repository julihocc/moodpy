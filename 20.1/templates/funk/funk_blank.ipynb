{
 "cells": [
  {
   "cell_type": "code",
   "execution_count": 1,
   "metadata": {},
   "outputs": [
    {
     "name": "stdout",
     "output_type": "stream",
     "text": [
      "Ubicación: \n",
      "\t /home/sage/Dropbox/Moodpy/Moodpy Package/20.1/templates/funk\n",
      "Hora: \n",
      "\t 2020-06-05 12:28:57.477125\n"
     ]
    }
   ],
   "source": [
    "import sys\n",
    "rutas = [r\"D:\\Dropbox\\Moodpy\\Moodpy Package\\20.1\"]\n",
    "for ruta in rutas:\n",
    "    sys.path.append(ruta)\n",
    "\n",
    "import numpy as np\n",
    "#np.random.seed(123)\n",
    "\n",
    "import moodpy\n",
    "import tools\n",
    "\n",
    "import os\n",
    "path = os.getcwd()\n",
    "\n",
    "import funktions as funk\n",
    "funk.test()"
   ]
  },
  {
   "cell_type": "code",
   "execution_count": null,
   "metadata": {},
   "outputs": [],
   "source": []
  }
 ],
 "metadata": {
  "kernelspec": {
   "display_name": "SageMath 9.0",
   "language": "sage",
   "name": "sagemath"
  },
  "language_info": {
   "codemirror_mode": {
    "name": "ipython",
    "version": 3
   },
   "file_extension": ".py",
   "mimetype": "text/x-python",
   "name": "python",
   "nbconvert_exporter": "python",
   "pygments_lexer": "ipython3",
   "version": "3.7.3"
  }
 },
 "nbformat": 4,
 "nbformat_minor": 2
}
