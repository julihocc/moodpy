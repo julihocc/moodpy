{
 "cells": [
  {
   "cell_type": "code",
   "execution_count": 1,
   "metadata": {},
   "outputs": [
    {
     "name": "stdout",
     "output_type": "stream",
     "text": [
      "Ubicación: \n",
      "\t /home/sage/Dropbox/Moodpy/Moodpy Package/20.1/templates/funk\n",
      "Hora: \n",
      "\t 2020-06-05 12:28:39.142590\n"
     ]
    }
   ],
   "source": [
    "import sys\n",
    "rutas = [r\"D:\\Dropbox\\Moodpy\\Moodpy Package\\20.1\"]\n",
    "for ruta in rutas:\n",
    "    sys.path.append(ruta)\n",
    "\n",
    "import numpy as np\n",
    "#np.random.seed(123)\n",
    "\n",
    "import moodpy\n",
    "import tools\n",
    "import matfin as mf\n",
    "\n",
    "import os\n",
    "path = os.getcwd()\n",
    "\n",
    "import funktions as funk\n",
    "funk.test()"
   ]
  },
  {
   "cell_type": "code",
   "execution_count": 2,
   "metadata": {},
   "outputs": [
    {
     "name": "stdout",
     "output_type": "stream",
     "text": [
      "  0  \n",
      "<h1>   </h1>\n"
     ]
    }
   ],
   "source": [
    "label, miCabecera = tools.make_label(\n",
    "    materia = \" \", \n",
    "    clave = 0, \n",
    "    tema = \" \")\n",
    "print(label)\n",
    "print(miCabecera)"
   ]
  },
  {
   "cell_type": "code",
   "execution_count": 3,
   "metadata": {},
   "outputs": [
    {
     "data": {
      "text/plain": [
       "'\\n        <questiontext format=\"html\">\\n<text>\\n<![CDATA[\\n<h1>   </h1> \\n    \\n]]>\\n</text></questiontext>\\n\\n        '"
      ]
     },
     "execution_count": 3,
     "metadata": {},
     "output_type": "execute_result"
    }
   ],
   "source": [
    "def generador(impr=False, cabecera=\"\", data={}, tex={}, answers={}, feedback = {}):    \n",
    "\n",
    "    ejercicio = cabecera + r\"\"\" \n",
    "    \"\"\".format(d=data, t=tex, a=answers, f=feedback)\n",
    "    \n",
    "    retroalimentacion = r\"\"\"\n",
    "    \"\"\".format(d=data, t=tex, a=answers, f=feedback)\n",
    "    \n",
    "    return moodpy.pretty(ejercicio)\n",
    "\n",
    "moodpy.quick(generador, label, False, impr=True, cabecera=miCabecera)"
   ]
  },
  {
   "cell_type": "code",
   "execution_count": 4,
   "metadata": {},
   "outputs": [
    {
     "name": "stdout",
     "output_type": "stream",
     "text": [
      "-*-*-*-*-*-*-*-*-*-*-*-*-*-*-*-*-*-*-*-*-*-*-*-*-*-*-*-*-*-*-*-*\n",
      "Finalizado: 2020-06-05 12:28:39.377359\n",
      "Folder:   0  \n",
      "Filename: __0___2020-06-05_12-28-39-377387.xml\n",
      "#exes: 5\n"
     ]
    }
   ],
   "source": [
    "moodpy.quick(generador, label, 5, impr=True, cabecera=miCabecera)"
   ]
  },
  {
   "cell_type": "code",
   "execution_count": 5,
   "metadata": {},
   "outputs": [
    {
     "name": "stdout",
     "output_type": "stream",
     "text": [
      "-*-*-*-*-*-*-*-*-*-*-*-*-*-*-*-*-*-*-*-*-*-*-*-*-*-*-*-*-*-*-*-*\n",
      "Finalizado: 2020-06-05 12:28:39.538547\n",
      "Folder:   0  \n",
      "Filename: __0___2020-06-05_12-28-39-538585.xml\n",
      "#exes: 500\n"
     ]
    }
   ],
   "source": [
    "moodpy.quick(generador, label, 500, impr=False, cabecera=miCabecera)"
   ]
  },
  {
   "cell_type": "code",
   "execution_count": null,
   "metadata": {},
   "outputs": [],
   "source": []
  }
 ],
 "metadata": {
  "kernelspec": {
   "display_name": "SageMath 9.0",
   "language": "sage",
   "name": "sagemath"
  },
  "language_info": {
   "codemirror_mode": {
    "name": "ipython",
    "version": 3
   },
   "file_extension": ".py",
   "mimetype": "text/x-python",
   "name": "python",
   "nbconvert_exporter": "python",
   "pygments_lexer": "ipython3",
   "version": "3.7.3"
  }
 },
 "nbformat": 4,
 "nbformat_minor": 2
}
